{
 "cells": [
  {
   "cell_type": "code",
   "execution_count": 20,
   "id": "21393106",
   "metadata": {},
   "outputs": [],
   "source": [
    "import pandas as pd\n",
    "file_1 = pd.read_excel('annotation_(framelevel).xlsx')\n",
    "file_2 = pd.read_excel('annotation(sound_time unit).xlsx')\n",
    "\n",
    "#image_text\n",
    "video_df = pd.DataFrame(file_1)  \n",
    "#sound\n",
    "sound_df = pd.DataFrame(file_2)"
   ]
  },
  {
   "cell_type": "code",
   "execution_count": 21,
   "id": "7bffce39",
   "metadata": {},
   "outputs": [
    {
     "data": {
      "text/plain": [
       "Index(['Video ID', 'Title', 'Filename', 'Violence(Sound) Type',\n",
       "       'Duplicated moment with previous', 'Sound Start', 'Start time(s)',\n",
       "       'Sound End', 'End time(s)', 'Start frame', 'End frame', 'Sound Type',\n",
       "       'Memos', 'Max frame', 'Max Time'],\n",
       "      dtype='object')"
      ]
     },
     "execution_count": 21,
     "metadata": {},
     "output_type": "execute_result"
    }
   ],
   "source": [
    "sound_df.columns"
   ]
  },
  {
   "cell_type": "code",
   "execution_count": 22,
   "id": "8ded83e9",
   "metadata": {},
   "outputs": [
    {
     "data": {
      "text/plain": [
       "Index(['Video ID', 'Filename', 'Start Frame', 'End Frame', 'Start Time (s)',\n",
       "       'End Time (s)', 'Violence Type (Video)', 'Video Type',\n",
       "       'Violence Type (Sound)', 'Sound Type', 'Violence Type (Text)',\n",
       "       'Manual Text', 'Memo', 'Max Frames', 'Max time'],\n",
       "      dtype='object')"
      ]
     },
     "execution_count": 22,
     "metadata": {},
     "output_type": "execute_result"
    }
   ],
   "source": [
    "video_df.columns"
   ]
  },
  {
   "cell_type": "code",
   "execution_count": 32,
   "id": "91a03ca6",
   "metadata": {},
   "outputs": [],
   "source": [
    "sound_df = sound_df.rename(columns={\n",
    "    'Start frame' : 'sound_start_frame',\n",
    "    'End frame' : 'sound_end_frame',\n",
    "    'Sound Type' : 'sound_label'\n",
    "    })"
   ]
  },
  {
   "cell_type": "code",
   "execution_count": 33,
   "id": "f163106e",
   "metadata": {},
   "outputs": [
    {
     "data": {
      "text/plain": [
       "Index(['Video ID', 'Title', 'Filename', 'Violence(Sound) Type',\n",
       "       'Duplicated moment with previous', 'Sound Start', 'Start time(s)',\n",
       "       'Sound End', 'End time(s)', 'sound_start_frame', 'sound_end_frame',\n",
       "       'sound_label', 'Memos', 'Max frame', 'Max Time'],\n",
       "      dtype='object')"
      ]
     },
     "execution_count": 33,
     "metadata": {},
     "output_type": "execute_result"
    }
   ],
   "source": [
    "sound_df.columns"
   ]
  },
  {
   "cell_type": "code",
   "execution_count": 34,
   "id": "c8ab3c2a",
   "metadata": {},
   "outputs": [
    {
     "data": {
      "text/html": [
       "<div>\n",
       "<style scoped>\n",
       "    .dataframe tbody tr th:only-of-type {\n",
       "        vertical-align: middle;\n",
       "    }\n",
       "\n",
       "    .dataframe tbody tr th {\n",
       "        vertical-align: top;\n",
       "    }\n",
       "\n",
       "    .dataframe thead th {\n",
       "        text-align: right;\n",
       "    }\n",
       "</style>\n",
       "<table border=\"1\" class=\"dataframe\">\n",
       "  <thead>\n",
       "    <tr style=\"text-align: right;\">\n",
       "      <th></th>\n",
       "      <th>Video ID</th>\n",
       "      <th>Title</th>\n",
       "      <th>Violence(Sound) Type</th>\n",
       "      <th>Start time(s)</th>\n",
       "      <th>End time(s)</th>\n",
       "      <th>sound_start_frame</th>\n",
       "      <th>sound_end_frame</th>\n",
       "      <th>sound_label</th>\n",
       "      <th>Memos</th>\n",
       "    </tr>\n",
       "  </thead>\n",
       "  <tbody>\n",
       "    <tr>\n",
       "      <th>0</th>\n",
       "      <td>100</td>\n",
       "      <td>Teen girls captured on video in nasty parking ...</td>\n",
       "      <td>Violent</td>\n",
       "      <td>14.00</td>\n",
       "      <td>17.00</td>\n",
       "      <td>421.000000</td>\n",
       "      <td>519.000000</td>\n",
       "      <td>Screaming</td>\n",
       "      <td>NaN</td>\n",
       "    </tr>\n",
       "    <tr>\n",
       "      <th>1</th>\n",
       "      <td>100</td>\n",
       "      <td>Teen girls captured on video in nasty parking ...</td>\n",
       "      <td>Violent</td>\n",
       "      <td>20.00</td>\n",
       "      <td>23.00</td>\n",
       "      <td>599.428740</td>\n",
       "      <td>689.343051</td>\n",
       "      <td>Screaming</td>\n",
       "      <td>NaN</td>\n",
       "    </tr>\n",
       "    <tr>\n",
       "      <th>2</th>\n",
       "      <td>100</td>\n",
       "      <td>Teen girls captured on video in nasty parking ...</td>\n",
       "      <td>Violent</td>\n",
       "      <td>24.00</td>\n",
       "      <td>37.00</td>\n",
       "      <td>719.314488</td>\n",
       "      <td>1108.943170</td>\n",
       "      <td>Screaming</td>\n",
       "      <td>NaN</td>\n",
       "    </tr>\n",
       "    <tr>\n",
       "      <th>3</th>\n",
       "      <td>100</td>\n",
       "      <td>Teen girls captured on video in nasty parking ...</td>\n",
       "      <td>Violent</td>\n",
       "      <td>43.00</td>\n",
       "      <td>53.00</td>\n",
       "      <td>1288.771792</td>\n",
       "      <td>1588.486162</td>\n",
       "      <td>Screaming</td>\n",
       "      <td>NaN</td>\n",
       "    </tr>\n",
       "    <tr>\n",
       "      <th>4</th>\n",
       "      <td>107</td>\n",
       "      <td>Delivery Driver Saves Homeowner &amp; Dog from Pit...</td>\n",
       "      <td>Violent</td>\n",
       "      <td>44.00</td>\n",
       "      <td>47.00</td>\n",
       "      <td>1342.000000</td>\n",
       "      <td>1394.000000</td>\n",
       "      <td>Screaming</td>\n",
       "      <td>NaN</td>\n",
       "    </tr>\n",
       "    <tr>\n",
       "      <th>...</th>\n",
       "      <td>...</td>\n",
       "      <td>...</td>\n",
       "      <td>...</td>\n",
       "      <td>...</td>\n",
       "      <td>...</td>\n",
       "      <td>...</td>\n",
       "      <td>...</td>\n",
       "      <td>...</td>\n",
       "      <td>...</td>\n",
       "    </tr>\n",
       "    <tr>\n",
       "      <th>235</th>\n",
       "      <td>24</td>\n",
       "      <td>RAW VIDEO Wild shootout in Northeast DC captur...</td>\n",
       "      <td>Violent</td>\n",
       "      <td>45.93</td>\n",
       "      <td>47.00</td>\n",
       "      <td>689.000000</td>\n",
       "      <td>705.000000</td>\n",
       "      <td>Gunshot</td>\n",
       "      <td>NaN</td>\n",
       "    </tr>\n",
       "    <tr>\n",
       "      <th>236</th>\n",
       "      <td>24</td>\n",
       "      <td>RAW VIDEO Wild shootout in Northeast DC captur...</td>\n",
       "      <td>Violent</td>\n",
       "      <td>49.00</td>\n",
       "      <td>56.07</td>\n",
       "      <td>735.000000</td>\n",
       "      <td>841.000000</td>\n",
       "      <td>Gunshot</td>\n",
       "      <td>NaN</td>\n",
       "    </tr>\n",
       "    <tr>\n",
       "      <th>237</th>\n",
       "      <td>24</td>\n",
       "      <td>RAW VIDEO Wild shootout in Northeast DC captur...</td>\n",
       "      <td>Violent</td>\n",
       "      <td>60.00</td>\n",
       "      <td>64.00</td>\n",
       "      <td>900.000000</td>\n",
       "      <td>960.000000</td>\n",
       "      <td>Others</td>\n",
       "      <td>Siren</td>\n",
       "    </tr>\n",
       "    <tr>\n",
       "      <th>238</th>\n",
       "      <td>24</td>\n",
       "      <td>RAW VIDEO Wild shootout in Northeast DC captur...</td>\n",
       "      <td>Violent</td>\n",
       "      <td>64.07</td>\n",
       "      <td>70.07</td>\n",
       "      <td>961.000000</td>\n",
       "      <td>1051.000000</td>\n",
       "      <td>Shouting</td>\n",
       "      <td>NaN</td>\n",
       "    </tr>\n",
       "    <tr>\n",
       "      <th>239</th>\n",
       "      <td>24</td>\n",
       "      <td>RAW VIDEO Wild shootout in Northeast DC captur...</td>\n",
       "      <td>Violent</td>\n",
       "      <td>70.13</td>\n",
       "      <td>90.87</td>\n",
       "      <td>1052.000000</td>\n",
       "      <td>1363.000000</td>\n",
       "      <td>Shouting</td>\n",
       "      <td>NaN</td>\n",
       "    </tr>\n",
       "  </tbody>\n",
       "</table>\n",
       "<p>240 rows × 9 columns</p>\n",
       "</div>"
      ],
      "text/plain": [
       "     Video ID                                              Title  \\\n",
       "0         100  Teen girls captured on video in nasty parking ...   \n",
       "1         100  Teen girls captured on video in nasty parking ...   \n",
       "2         100  Teen girls captured on video in nasty parking ...   \n",
       "3         100  Teen girls captured on video in nasty parking ...   \n",
       "4         107  Delivery Driver Saves Homeowner & Dog from Pit...   \n",
       "..        ...                                                ...   \n",
       "235        24  RAW VIDEO Wild shootout in Northeast DC captur...   \n",
       "236        24  RAW VIDEO Wild shootout in Northeast DC captur...   \n",
       "237        24  RAW VIDEO Wild shootout in Northeast DC captur...   \n",
       "238        24  RAW VIDEO Wild shootout in Northeast DC captur...   \n",
       "239        24  RAW VIDEO Wild shootout in Northeast DC captur...   \n",
       "\n",
       "    Violence(Sound) Type  Start time(s)  End time(s)  sound_start_frame  \\\n",
       "0                Violent          14.00        17.00         421.000000   \n",
       "1                Violent          20.00        23.00         599.428740   \n",
       "2                Violent          24.00        37.00         719.314488   \n",
       "3                Violent          43.00        53.00        1288.771792   \n",
       "4                Violent          44.00        47.00        1342.000000   \n",
       "..                   ...            ...          ...                ...   \n",
       "235              Violent          45.93        47.00         689.000000   \n",
       "236              Violent          49.00        56.07         735.000000   \n",
       "237              Violent          60.00        64.00         900.000000   \n",
       "238              Violent          64.07        70.07         961.000000   \n",
       "239              Violent          70.13        90.87        1052.000000   \n",
       "\n",
       "     sound_end_frame sound_label  Memos  \n",
       "0         519.000000   Screaming    NaN  \n",
       "1         689.343051   Screaming    NaN  \n",
       "2        1108.943170   Screaming    NaN  \n",
       "3        1588.486162   Screaming    NaN  \n",
       "4        1394.000000   Screaming    NaN  \n",
       "..               ...         ...    ...  \n",
       "235       705.000000     Gunshot    NaN  \n",
       "236       841.000000     Gunshot    NaN  \n",
       "237       960.000000      Others  Siren  \n",
       "238      1051.000000    Shouting    NaN  \n",
       "239      1363.000000    Shouting    NaN  \n",
       "\n",
       "[240 rows x 9 columns]"
      ]
     },
     "execution_count": 34,
     "metadata": {},
     "output_type": "execute_result"
    }
   ],
   "source": [
    "sound_df_refined = sound_df.drop(columns =[\n",
    "                                 'Filename',\n",
    "                                 'Duplicated moment with previous',\n",
    "                                 'Sound Start',\n",
    "                                 'Sound End',\n",
    "                                 'Max frame',\n",
    "                                 'Max Time'])\n",
    "sound_df_refined"
   ]
  },
  {
   "cell_type": "code",
   "execution_count": 35,
   "id": "1abfb332",
   "metadata": {},
   "outputs": [],
   "source": [
    "video_df = video_df.rename(columns={\n",
    "    'Start Frame' : 'Start frame',\n",
    "    'End Frame' : 'End frame',\n",
    "    'Violence Type (Sound)' : 'Violence(Sound) Type',\n",
    "    'Start Time (s)' : 'Start time(s)',\n",
    "    'End Time (s)' : 'End time(s)'\n",
    "})"
   ]
  },
  {
   "cell_type": "code",
   "execution_count": 37,
   "id": "a513e0bb",
   "metadata": {},
   "outputs": [
    {
     "data": {
      "text/plain": [
       "Index(['Video ID', 'Filename', 'Start frame', 'End frame', 'Start time(s)',\n",
       "       'End time(s)', 'Violence Type (Video)', 'Video Type',\n",
       "       'Violence(Sound) Type', 'Sound Type', 'Violence Type (Text)',\n",
       "       'Manual Text', 'Memo', 'Max Frames', 'Max time'],\n",
       "      dtype='object')"
      ]
     },
     "execution_count": 37,
     "metadata": {},
     "output_type": "execute_result"
    }
   ],
   "source": [
    "video_df.columns"
   ]
  },
  {
   "cell_type": "code",
   "execution_count": 52,
   "id": "f22093b9",
   "metadata": {},
   "outputs": [],
   "source": [
    "video_df_refined = video_df.astype({'Video ID': int, 'Start frame':int, 'End frame':int})\n",
    "sound_df_refined = sound_df_refined.astype({'Video ID':int, 'sound_start_frame':int, 'sound_end_frame':int})"
   ]
  },
  {
   "cell_type": "code",
   "execution_count": 57,
   "id": "630f102f",
   "metadata": {},
   "outputs": [],
   "source": [
    "def extract_sound_columns(row, max_sound = 3):\n",
    "    matches = sound_df_refined[\n",
    "        (sound_df_refined['Video ID'] == row['Video ID']) &\n",
    "        (sound_df_refined['sound_start_frame'] >= row['Start frame']) &\n",
    "        (sound_df_refined['sound_end_frame'] <= row['End frame'])\n",
    "    ]\n",
    "    sound_cols = {}\n",
    "    for idx, (_, match) in enumerate(matches.iterrows()):\n",
    "        if idx >= max_sound:\n",
    "            print('More than 3 sound matches found, skipping additional matches.')\n",
    "            break\n",
    "        i = idx + 1\n",
    "        sound_cols[f'sound_{i}'] = match['sound_label']\n",
    "        sound_cols[f'sound_{i}_start_frame'] = match['sound_start_frame']\n",
    "        sound_cols[f'sound_{i}_end_frame'] = match['sound_end_frame']\n",
    "    \n",
    "    # Fill in missing ones with None\n",
    "    current_count = len(matches)\n",
    "    for i in range(current_count, max_sound+1):\n",
    "        sound_cols[f'sound_{i}'] = None\n",
    "        sound_cols[f'sound_{i}_start_frame'] = None\n",
    "        sound_cols[f'sound_{i}_end_frame'] = None\n",
    "    \n",
    "    return pd.Series(sound_cols)"
   ]
  },
  {
   "cell_type": "code",
   "execution_count": 81,
   "id": "82496bf0",
   "metadata": {},
   "outputs": [],
   "source": [
    "def extract_sound_columns(row, sound_df, max_sounds=3):\n",
    "    video_id = row['Video ID']\n",
    "    start_frame = row['Start frame']\n",
    "    end_frame = row['End frame']\n",
    "    \n",
    "    # Filter matching sound annotations\n",
    "    matches = sound_df[\n",
    "        (sound_df['Video ID'] == video_id) &\n",
    "        (sound_df['sound_start_frame'] >= start_frame) &\n",
    "        (sound_df['sound_end_frame'] <= end_frame)\n",
    "    ].sort_values('sound_start_frame')\n",
    "\n",
    "    # Prepare output columns dynamically\n",
    "    sound_cols = {}\n",
    "    for idx, match in enumerate(matches.itertuples(), start=1):\n",
    "        if idx > max_sounds:\n",
    "            break\n",
    "        sound_cols[f'sound_{idx}'] = match._8   # Assuming 8th column is 'Sound Ty'\n",
    "        sound_cols[f'sound_{idx}_start_frame'] = match._6  # 'Start frame'\n",
    "        sound_cols[f'sound_{idx}_end_frame'] = match._7    # 'End frame'\n",
    "\n",
    "\n",
    "    for idx in range(len(matches) + 1, max_sounds + 1):\n",
    "        sound_cols[f'sound_{idx}'] = None\n",
    "        sound_cols[f'sound_{idx}_start_frame'] = None\n",
    "        sound_cols[f'sound_{idx}_end_frame'] = None\n",
    "\n",
    "    return pd.Series(sound_cols)\n"
   ]
  },
  {
   "cell_type": "code",
   "execution_count": 83,
   "id": "77a1080a",
   "metadata": {},
   "outputs": [],
   "source": [
    "sounds_cols_df = video_df_refined.apply(lambda row: extract_sound_columns(row, sound_df, max_sounds=3), axis=1)\n",
    "video_df_refined = pd.concat([video_df_refined, sounds_cols_df], axis=1)\n",
    "\n",
    "video_df_refined.to_csv('video_df_refined.csv', index=False)"
   ]
  }
 ],
 "metadata": {
  "kernelspec": {
   "display_name": "Python 3",
   "language": "python",
   "name": "python3"
  },
  "language_info": {
   "codemirror_mode": {
    "name": "ipython",
    "version": 3
   },
   "file_extension": ".py",
   "mimetype": "text/x-python",
   "name": "python",
   "nbconvert_exporter": "python",
   "pygments_lexer": "ipython3",
   "version": "3.12.2"
  }
 },
 "nbformat": 4,
 "nbformat_minor": 5
}
