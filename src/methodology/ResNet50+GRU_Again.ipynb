{
  "nbformat": 4,
  "nbformat_minor": 0,
  "metadata": {
    "colab": {
      "provenance": [],
      "machine_shape": "hm",
      "gpuType": "L4"
    },
    "kernelspec": {
      "name": "python3",
      "display_name": "Python 3"
    },
    "language_info": {
      "name": "python"
    },
    "accelerator": "GPU"
  },
  "cells": [
    {
      "cell_type": "code",
      "source": [
        "from google.colab import drive\n",
        "drive.mount('/content/drive')"
      ],
      "metadata": {
        "colab": {
          "base_uri": "https://localhost:8080/"
        },
        "id": "gPzXd2njfJrP",
        "outputId": "13ee5f7b-6041-4e9a-e9c0-906dea4abfcc"
      },
      "execution_count": null,
      "outputs": [
        {
          "output_type": "stream",
          "name": "stdout",
          "text": [
            "Mounted at /content/drive\n"
          ]
        }
      ]
    },
    {
      "cell_type": "code",
      "source": [
        "import os\n",
        "import numpy as np\n",
        "import pandas as pd\n",
        "import torch\n",
        "import torch.nn as nn\n",
        "from torch.utils.data import Dataset, DataLoader\n",
        "from torchvision.models import resnet50, ResNet50_Weights\n",
        "from sklearn.metrics import f1_score, classification_report, confusion_matrix\n",
        "from tqdm import tqdm\n",
        "from torch.amp import autocast, GradScaler\n",
        "from torchvision import transforms\n",
        "\n",
        "# === COLAB PATHS ===\n",
        "train_csv_path = '/content/drive/MyDrive/Colab Notebooks/Projects/CSVs/train.csv'\n",
        "test_csv_path = '/content/drive/MyDrive/Colab Notebooks/Projects/CSVs/test.csv'\n",
        "NPY_DIR = '/content/drive/MyDrive/Colab Notebooks/Projects/npy_segments_unimodal'\n",
        "save_path = '/content/drive/MyDrive/Colab Notebooks/Results/Again(RESNET50+GRU)'\n",
        "os.makedirs(save_path, exist_ok=True)\n",
        "\n",
        "# === CONFIG ===\n",
        "BATCH_SIZE = 4\n",
        "GRAD_ACCUM_STEPS = 4\n",
        "EPOCHS = 20\n",
        "MAX_FRAMES = 80\n",
        "device = torch.device(\"cuda\" if torch.cuda.is_available() else \"cpu\")\n",
        "\n",
        "# === MODEL ===\n",
        "class ResNet50GRU(nn.Module):\n",
        "    def __init__(self):\n",
        "        super().__init__()\n",
        "        self.resnet = resnet50(weights=ResNet50_Weights.DEFAULT)\n",
        "        for p in self.resnet.parameters():\n",
        "            p.requires_grad = False\n",
        "        for p in self.resnet.layer4.parameters():\n",
        "            p.requires_grad = True\n",
        "        self.resnet.fc = nn.Identity()\n",
        "        self.gru = nn.GRU(2048, 256, batch_first=True, bidirectional=True)\n",
        "        self.attn = nn.Linear(512, 1)\n",
        "        self.dropout = nn.Dropout(0.3)\n",
        "        self.fc = nn.Linear(512, 1)\n",
        "\n",
        "    def forward(self, x):\n",
        "        B, T, C, H, W = x.size()\n",
        "        x = x.view(B * T, C, H, W)\n",
        "        feats = self.resnet(x)\n",
        "        feats = feats.view(B, T, -1)\n",
        "        out, _ = self.gru(feats)\n",
        "        weights = torch.softmax(self.attn(out), dim=1)\n",
        "        out = torch.sum(weights * out, dim=1)\n",
        "        out = self.dropout(out)\n",
        "        return self.fc(out).squeeze(1)\n",
        "\n",
        "# === DATASET ===\n",
        "class ViolenceDataset(Dataset):\n",
        "    def __init__(self, csv_path, npy_dir):\n",
        "        self.df = pd.read_csv(csv_path)\n",
        "        self.npy_dir = npy_dir\n",
        "        self.transform = transforms.Compose([\n",
        "            transforms.ToPILImage(),\n",
        "            transforms.Resize((224, 224)),\n",
        "            transforms.RandomHorizontalFlip(p=0.5),\n",
        "            transforms.ColorJitter(brightness=0.2, contrast=0.2),\n",
        "            transforms.ToTensor(),\n",
        "            transforms.Normalize(mean=(0.485, 0.456, 0.406),\n",
        "                                 std=(0.229, 0.224, 0.225))\n",
        "        ])\n",
        "\n",
        "    def __len__(self):\n",
        "        return len(self.df)\n",
        "\n",
        "    def __getitem__(self, idx):\n",
        "        row = self.df.iloc[idx]\n",
        "        segment_id = row['Segment ID']\n",
        "        label = row['Violence label(video)']\n",
        "        frames = np.load(os.path.join(self.npy_dir, f\"{segment_id}.npy\"))\n",
        "        frames = frames[:MAX_FRAMES]\n",
        "        if len(frames) < MAX_FRAMES:\n",
        "            pad_len = MAX_FRAMES - len(frames)\n",
        "            frames = np.concatenate([frames, np.repeat(frames[-1][np.newaxis], pad_len, axis=0)], axis=0)\n",
        "        frames = torch.stack([\n",
        "            self.transform(torch.from_numpy(f).permute(2, 0, 1).float() / 255.0)\n",
        "            for f in frames\n",
        "        ])\n",
        "        return frames, torch.tensor(label, dtype=torch.float32)\n",
        "\n",
        "# === INIT ===\n",
        "train_dataset = ViolenceDataset(train_csv_path, NPY_DIR)\n",
        "test_dataset = ViolenceDataset(test_csv_path, NPY_DIR)\n",
        "train_loader = DataLoader(train_dataset, batch_size=BATCH_SIZE, shuffle=True)\n",
        "test_loader = DataLoader(test_dataset, batch_size=BATCH_SIZE, shuffle=False)\n",
        "\n",
        "model = ResNet50GRU().to(device)\n",
        "criterion = nn.BCEWithLogitsLoss()\n",
        "optimizer = torch.optim.Adam(model.parameters(), lr=1e-4)\n",
        "scheduler = torch.optim.lr_scheduler.ReduceLROnPlateau(optimizer, mode='min', factor=0.5, patience=1)\n",
        "scaler = GradScaler()\n",
        "best_loss = float('inf')\n",
        "early_stop_counter = 0\n",
        "PATIENCE = 4\n",
        "\n",
        "# === TRAINING ===\n",
        "for epoch in range(EPOCHS):\n",
        "    model.train()\n",
        "    y_true, y_pred = [], []\n",
        "    total_loss = 0.0\n",
        "    optimizer.zero_grad()\n",
        "\n",
        "    for i, (frames, labels) in enumerate(tqdm(train_loader, desc=f\"Epoch {epoch+1}/{EPOCHS}\")):\n",
        "        frames, labels = frames.to(device), labels.to(device)\n",
        "        with autocast(device_type='cuda'):\n",
        "            outputs = model(frames)\n",
        "            loss = criterion(outputs, labels) / GRAD_ACCUM_STEPS\n",
        "        scaler.scale(loss).backward()\n",
        "\n",
        "        if (i + 1) % GRAD_ACCUM_STEPS == 0 or (i + 1) == len(train_loader):\n",
        "            torch.nn.utils.clip_grad_norm_(model.parameters(), max_norm=1.0)\n",
        "            scaler.step(optimizer)\n",
        "            scaler.update()\n",
        "            optimizer.zero_grad()\n",
        "\n",
        "        total_loss += loss.item() * GRAD_ACCUM_STEPS\n",
        "        preds = (torch.sigmoid(outputs) > 0.5).int()\n",
        "        y_true.extend(labels.cpu().numpy())\n",
        "        y_pred.extend(preds.cpu().numpy())\n",
        "\n",
        "    avg_loss = total_loss / len(train_loader)\n",
        "    macro_f1 = f1_score(y_true, y_pred, average='macro')\n",
        "    micro_f1 = f1_score(y_true, y_pred, average='micro')\n",
        "    print(f\"Epoch {epoch+1} | Avg BCE Loss: {avg_loss:.4f} | Macro F1: {macro_f1:.4f} | Micro F1: {micro_f1:.4f}\")\n",
        "    print(classification_report(y_true, y_pred, target_names=[\"Non-violent\", \"Violent\"], zero_division=0))\n",
        "\n",
        "    scheduler.step(avg_loss)\n",
        "\n",
        "    if avg_loss < best_loss:\n",
        "        best_loss = avg_loss\n",
        "        torch.save(model.state_dict(), os.path.join(save_path, \"resnet50_gru_best_bce.pt\"))\n",
        "        print(\"[SAVED] Best BCE model\")\n",
        "        early_stop_counter = 0\n",
        "    else:\n",
        "        early_stop_counter += 1\n",
        "        if early_stop_counter >= PATIENCE:\n",
        "            print(\"Early stopping.\")\n",
        "            break\n",
        "\n",
        "# === TESTING ===\n",
        "model.load_state_dict(torch.load(os.path.join(save_path, \"resnet50_gru_best_bce.pt\")))\n",
        "model.eval()\n",
        "y_true, y_pred, segment_ids = [], [], test_dataset.df['Segment ID'].tolist()\n",
        "test_loss = 0\n",
        "\n",
        "with torch.no_grad():\n",
        "    for frames, labels in test_loader:\n",
        "        frames, labels = frames.to(device), labels.to(device)\n",
        "        outputs = model(frames)\n",
        "        loss = criterion(outputs, labels)\n",
        "        test_loss += loss.item()\n",
        "        preds = (torch.sigmoid(outputs) > 0.5).int()\n",
        "        y_true.extend(labels.cpu().numpy())\n",
        "        y_pred.extend(preds.cpu().numpy())\n",
        "\n",
        "avg_test_loss = test_loss / len(test_loader)\n",
        "macro_f1_test = f1_score(y_true, y_pred, average='macro')\n",
        "micro_f1_test = f1_score(y_true, y_pred, average='micro')\n",
        "report = classification_report(y_true, y_pred, target_names=[\"Non-violent\", \"Violent\"], output_dict=True, zero_division=0)\n",
        "conf_matrix = confusion_matrix(y_true, y_pred)\n",
        "\n",
        "print(\"\\n[TEST] BCE Loss:\", round(avg_test_loss, 4))\n",
        "print(\"[TEST] Macro F1:\", round(macro_f1_test, 4))\n",
        "print(\"[TEST] Micro F1:\", round(micro_f1_test, 4))\n",
        "print(\"[TEST] Per-Class F1 Scores:\")\n",
        "print(\" - Non-violent F1:\", round(report['Non-violent']['f1-score'], 4))\n",
        "print(\" - Violent F1:\", round(report['Violent']['f1-score'], 4))\n",
        "print(\"Confusion Matrix:\\n\", conf_matrix)\n",
        "\n",
        "results = pd.DataFrame({\"Segment ID\": segment_ids, \"True\": y_true, \"Pred\": y_pred})\n",
        "results.to_csv(os.path.join(save_path, \"resnet50_gru_predictions_final.csv\"), index=False)\n",
        "pd.DataFrame(report).to_csv(os.path.join(save_path, \"resnet50_gru_test_metrics_final.csv\"))\n"
      ],
      "metadata": {
        "colab": {
          "base_uri": "https://localhost:8080/"
        },
        "id": "kDEHVt_sfaUl",
        "outputId": "6e60555e-bf13-4b6e-b477-94429ca2928a"
      },
      "execution_count": null,
      "outputs": [
        {
          "metadata": {
            "tags": null
          },
          "name": "stderr",
          "output_type": "stream",
          "text": [
            "Downloading: \"https://download.pytorch.org/models/resnet50-11ad3fa6.pth\" to /root/.cache/torch/hub/checkpoints/resnet50-11ad3fa6.pth\n",
            "100%|██████████| 97.8M/97.8M [00:00<00:00, 169MB/s]\n",
            "Epoch 1/20: 100%|██████████| 168/168 [24:53<00:00,  8.89s/it]\n"
          ]
        },
        {
          "metadata": {
            "tags": null
          },
          "name": "stdout",
          "output_type": "stream",
          "text": [
            "Epoch 1 | Avg BCE Loss: 0.6523 | Macro F1: 0.4794 | Micro F1: 0.5904\n",
            "              precision    recall  f1-score   support\n",
            "\n",
            " Non-violent       0.59      0.92      0.72       381\n",
            "     Violent       0.60      0.15      0.24       288\n",
            "\n",
            "    accuracy                           0.59       669\n",
            "   macro avg       0.59      0.54      0.48       669\n",
            "weighted avg       0.59      0.59      0.51       669\n",
            "\n",
            "[SAVED] Best BCE model\n"
          ]
        },
        {
          "metadata": {
            "tags": null
          },
          "name": "stderr",
          "output_type": "stream",
          "text": [
            "Epoch 2/20: 100%|██████████| 168/168 [04:56<00:00,  1.77s/it]\n"
          ]
        },
        {
          "metadata": {
            "tags": null
          },
          "name": "stdout",
          "output_type": "stream",
          "text": [
            "Epoch 2 | Avg BCE Loss: 0.5773 | Macro F1: 0.6800 | Micro F1: 0.6891\n",
            "              precision    recall  f1-score   support\n",
            "\n",
            " Non-violent       0.72      0.75      0.73       381\n",
            "     Violent       0.65      0.60      0.63       288\n",
            "\n",
            "    accuracy                           0.69       669\n",
            "   macro avg       0.68      0.68      0.68       669\n",
            "weighted avg       0.69      0.69      0.69       669\n",
            "\n",
            "[SAVED] Best BCE model\n"
          ]
        },
        {
          "metadata": {
            "tags": null
          },
          "name": "stderr",
          "output_type": "stream",
          "text": [
            "Epoch 3/20: 100%|██████████| 168/168 [04:40<00:00,  1.67s/it]\n"
          ]
        },
        {
          "metadata": {
            "tags": null
          },
          "name": "stdout",
          "output_type": "stream",
          "text": [
            "Epoch 3 | Avg BCE Loss: 0.5103 | Macro F1: 0.7411 | Micro F1: 0.7474\n",
            "              precision    recall  f1-score   support\n",
            "\n",
            " Non-violent       0.77      0.79      0.78       381\n",
            "     Violent       0.71      0.69      0.70       288\n",
            "\n",
            "    accuracy                           0.75       669\n",
            "   macro avg       0.74      0.74      0.74       669\n",
            "weighted avg       0.75      0.75      0.75       669\n",
            "\n",
            "[SAVED] Best BCE model\n"
          ]
        },
        {
          "metadata": {
            "tags": null
          },
          "name": "stderr",
          "output_type": "stream",
          "text": [
            "Epoch 4/20: 100%|██████████| 168/168 [04:31<00:00,  1.61s/it]\n"
          ]
        },
        {
          "metadata": {
            "tags": null
          },
          "name": "stdout",
          "output_type": "stream",
          "text": [
            "Epoch 4 | Avg BCE Loss: 0.4897 | Macro F1: 0.7499 | Micro F1: 0.7519\n",
            "              precision    recall  f1-score   support\n",
            "\n",
            " Non-violent       0.81      0.74      0.77       381\n",
            "     Violent       0.69      0.77      0.73       288\n",
            "\n",
            "    accuracy                           0.75       669\n",
            "   macro avg       0.75      0.75      0.75       669\n",
            "weighted avg       0.76      0.75      0.75       669\n",
            "\n",
            "[SAVED] Best BCE model\n"
          ]
        },
        {
          "metadata": {
            "tags": null
          },
          "name": "stderr",
          "output_type": "stream",
          "text": [
            "Epoch 5/20: 100%|██████████| 168/168 [04:24<00:00,  1.57s/it]\n"
          ]
        },
        {
          "metadata": {
            "tags": null
          },
          "name": "stdout",
          "output_type": "stream",
          "text": [
            "Epoch 5 | Avg BCE Loss: 0.4879 | Macro F1: 0.7419 | Micro F1: 0.7444\n",
            "              precision    recall  f1-score   support\n",
            "\n",
            " Non-violent       0.80      0.74      0.77       381\n",
            "     Violent       0.69      0.75      0.72       288\n",
            "\n",
            "    accuracy                           0.74       669\n",
            "   macro avg       0.74      0.75      0.74       669\n",
            "weighted avg       0.75      0.74      0.75       669\n",
            "\n",
            "[SAVED] Best BCE model\n"
          ]
        },
        {
          "metadata": {
            "tags": null
          },
          "name": "stderr",
          "output_type": "stream",
          "text": [
            "Epoch 6/20: 100%|██████████| 168/168 [04:19<00:00,  1.54s/it]\n"
          ]
        },
        {
          "metadata": {
            "tags": null
          },
          "name": "stdout",
          "output_type": "stream",
          "text": [
            "Epoch 6 | Avg BCE Loss: 0.4622 | Macro F1: 0.7688 | Micro F1: 0.7713\n",
            "              precision    recall  f1-score   support\n",
            "\n",
            " Non-violent       0.82      0.77      0.79       381\n",
            "     Violent       0.72      0.77      0.74       288\n",
            "\n",
            "    accuracy                           0.77       669\n",
            "   macro avg       0.77      0.77      0.77       669\n",
            "weighted avg       0.77      0.77      0.77       669\n",
            "\n",
            "[SAVED] Best BCE model\n"
          ]
        },
        {
          "metadata": {
            "tags": null
          },
          "name": "stderr",
          "output_type": "stream",
          "text": [
            "Epoch 7/20: 100%|██████████| 168/168 [04:16<00:00,  1.53s/it]\n"
          ]
        },
        {
          "metadata": {
            "tags": null
          },
          "name": "stdout",
          "output_type": "stream",
          "text": [
            "Epoch 7 | Avg BCE Loss: 0.4372 | Macro F1: 0.7734 | Micro F1: 0.7758\n",
            "              precision    recall  f1-score   support\n",
            "\n",
            " Non-violent       0.82      0.77      0.80       381\n",
            "     Violent       0.72      0.78      0.75       288\n",
            "\n",
            "    accuracy                           0.78       669\n",
            "   macro avg       0.77      0.78      0.77       669\n",
            "weighted avg       0.78      0.78      0.78       669\n",
            "\n",
            "[SAVED] Best BCE model\n"
          ]
        },
        {
          "metadata": {
            "tags": null
          },
          "name": "stderr",
          "output_type": "stream",
          "text": [
            "Epoch 8/20: 100%|██████████| 168/168 [04:14<00:00,  1.52s/it]\n"
          ]
        },
        {
          "metadata": {
            "tags": null
          },
          "name": "stdout",
          "output_type": "stream",
          "text": [
            "Epoch 8 | Avg BCE Loss: 0.3991 | Macro F1: 0.7953 | Micro F1: 0.7982\n",
            "              precision    recall  f1-score   support\n",
            "\n",
            " Non-violent       0.83      0.81      0.82       381\n",
            "     Violent       0.75      0.79      0.77       288\n",
            "\n",
            "    accuracy                           0.80       669\n",
            "   macro avg       0.79      0.80      0.80       669\n",
            "weighted avg       0.80      0.80      0.80       669\n",
            "\n",
            "[SAVED] Best BCE model\n"
          ]
        },
        {
          "metadata": {
            "tags": null
          },
          "name": "stderr",
          "output_type": "stream",
          "text": [
            "Epoch 9/20: 100%|██████████| 168/168 [04:14<00:00,  1.52s/it]\n"
          ]
        },
        {
          "metadata": {
            "tags": null
          },
          "name": "stdout",
          "output_type": "stream",
          "text": [
            "Epoch 9 | Avg BCE Loss: 0.3730 | Macro F1: 0.8251 | Micro F1: 0.8281\n",
            "              precision    recall  f1-score   support\n",
            "\n",
            " Non-violent       0.85      0.84      0.85       381\n",
            "     Violent       0.80      0.81      0.80       288\n",
            "\n",
            "    accuracy                           0.83       669\n",
            "   macro avg       0.82      0.83      0.83       669\n",
            "weighted avg       0.83      0.83      0.83       669\n",
            "\n",
            "[SAVED] Best BCE model\n"
          ]
        },
        {
          "metadata": {
            "tags": null
          },
          "name": "stderr",
          "output_type": "stream",
          "text": [
            "Epoch 10/20: 100%|██████████| 168/168 [04:17<00:00,  1.53s/it]\n"
          ]
        },
        {
          "metadata": {
            "tags": null
          },
          "name": "stdout",
          "output_type": "stream",
          "text": [
            "Epoch 10 | Avg BCE Loss: 0.3249 | Macro F1: 0.8640 | Micro F1: 0.8655\n",
            "              precision    recall  f1-score   support\n",
            "\n",
            " Non-violent       0.91      0.85      0.88       381\n",
            "     Violent       0.82      0.89      0.85       288\n",
            "\n",
            "    accuracy                           0.87       669\n",
            "   macro avg       0.86      0.87      0.86       669\n",
            "weighted avg       0.87      0.87      0.87       669\n",
            "\n",
            "[SAVED] Best BCE model\n"
          ]
        },
        {
          "output_type": "stream",
          "name": "stderr",
          "text": [
            "Epoch 11/20: 100%|██████████| 168/168 [04:20<00:00,  1.55s/it]\n"
          ]
        },
        {
          "output_type": "stream",
          "name": "stdout",
          "text": [
            "Epoch 11 | Avg BCE Loss: 0.3055 | Macro F1: 0.8576 | Micro F1: 0.8595\n",
            "              precision    recall  f1-score   support\n",
            "\n",
            " Non-violent       0.89      0.86      0.87       381\n",
            "     Violent       0.82      0.86      0.84       288\n",
            "\n",
            "    accuracy                           0.86       669\n",
            "   macro avg       0.86      0.86      0.86       669\n",
            "weighted avg       0.86      0.86      0.86       669\n",
            "\n",
            "[SAVED] Best BCE model\n"
          ]
        },
        {
          "output_type": "stream",
          "name": "stderr",
          "text": [
            "Epoch 12/20: 100%|██████████| 168/168 [04:16<00:00,  1.53s/it]\n"
          ]
        },
        {
          "output_type": "stream",
          "name": "stdout",
          "text": [
            "Epoch 12 | Avg BCE Loss: 0.3022 | Macro F1: 0.8589 | Micro F1: 0.8610\n",
            "              precision    recall  f1-score   support\n",
            "\n",
            " Non-violent       0.89      0.86      0.88       381\n",
            "     Violent       0.83      0.86      0.84       288\n",
            "\n",
            "    accuracy                           0.86       669\n",
            "   macro avg       0.86      0.86      0.86       669\n",
            "weighted avg       0.86      0.86      0.86       669\n",
            "\n",
            "[SAVED] Best BCE model\n"
          ]
        },
        {
          "output_type": "stream",
          "name": "stderr",
          "text": [
            "Epoch 13/20: 100%|██████████| 168/168 [04:17<00:00,  1.53s/it]\n"
          ]
        },
        {
          "output_type": "stream",
          "name": "stdout",
          "text": [
            "Epoch 13 | Avg BCE Loss: 0.2306 | Macro F1: 0.8968 | Micro F1: 0.8984\n",
            "              precision    recall  f1-score   support\n",
            "\n",
            " Non-violent       0.92      0.90      0.91       381\n",
            "     Violent       0.87      0.90      0.88       288\n",
            "\n",
            "    accuracy                           0.90       669\n",
            "   macro avg       0.90      0.90      0.90       669\n",
            "weighted avg       0.90      0.90      0.90       669\n",
            "\n",
            "[SAVED] Best BCE model\n"
          ]
        },
        {
          "output_type": "stream",
          "name": "stderr",
          "text": [
            "Epoch 14/20: 100%|██████████| 168/168 [04:13<00:00,  1.51s/it]\n"
          ]
        },
        {
          "output_type": "stream",
          "name": "stdout",
          "text": [
            "Epoch 14 | Avg BCE Loss: 0.2506 | Macro F1: 0.8928 | Micro F1: 0.8939\n",
            "              precision    recall  f1-score   support\n",
            "\n",
            " Non-violent       0.94      0.87      0.90       381\n",
            "     Violent       0.84      0.92      0.88       288\n",
            "\n",
            "    accuracy                           0.89       669\n",
            "   macro avg       0.89      0.90      0.89       669\n",
            "weighted avg       0.90      0.89      0.89       669\n",
            "\n"
          ]
        },
        {
          "output_type": "stream",
          "name": "stderr",
          "text": [
            "Epoch 15/20: 100%|██████████| 168/168 [04:13<00:00,  1.51s/it]\n"
          ]
        },
        {
          "output_type": "stream",
          "name": "stdout",
          "text": [
            "Epoch 15 | Avg BCE Loss: 0.2323 | Macro F1: 0.8878 | Micro F1: 0.8894\n",
            "              precision    recall  f1-score   support\n",
            "\n",
            " Non-violent       0.92      0.88      0.90       381\n",
            "     Violent       0.85      0.90      0.87       288\n",
            "\n",
            "    accuracy                           0.89       669\n",
            "   macro avg       0.89      0.89      0.89       669\n",
            "weighted avg       0.89      0.89      0.89       669\n",
            "\n"
          ]
        },
        {
          "output_type": "stream",
          "name": "stderr",
          "text": [
            "Epoch 16/20: 100%|██████████| 168/168 [04:11<00:00,  1.50s/it]\n"
          ]
        },
        {
          "output_type": "stream",
          "name": "stdout",
          "text": [
            "Epoch 16 | Avg BCE Loss: 0.1916 | Macro F1: 0.9121 | Micro F1: 0.9133\n",
            "              precision    recall  f1-score   support\n",
            "\n",
            " Non-violent       0.94      0.91      0.92       381\n",
            "     Violent       0.88      0.92      0.90       288\n",
            "\n",
            "    accuracy                           0.91       669\n",
            "   macro avg       0.91      0.91      0.91       669\n",
            "weighted avg       0.91      0.91      0.91       669\n",
            "\n",
            "[SAVED] Best BCE model\n"
          ]
        },
        {
          "output_type": "stream",
          "name": "stderr",
          "text": [
            "Epoch 17/20: 100%|██████████| 168/168 [04:14<00:00,  1.51s/it]\n"
          ]
        },
        {
          "output_type": "stream",
          "name": "stdout",
          "text": [
            "Epoch 17 | Avg BCE Loss: 0.1892 | Macro F1: 0.9227 | Micro F1: 0.9238\n",
            "              precision    recall  f1-score   support\n",
            "\n",
            " Non-violent       0.95      0.91      0.93       381\n",
            "     Violent       0.89      0.94      0.91       288\n",
            "\n",
            "    accuracy                           0.92       669\n",
            "   macro avg       0.92      0.93      0.92       669\n",
            "weighted avg       0.93      0.92      0.92       669\n",
            "\n",
            "[SAVED] Best BCE model\n"
          ]
        },
        {
          "output_type": "stream",
          "name": "stderr",
          "text": [
            "Epoch 18/20: 100%|██████████| 168/168 [04:16<00:00,  1.53s/it]\n"
          ]
        },
        {
          "output_type": "stream",
          "name": "stdout",
          "text": [
            "Epoch 18 | Avg BCE Loss: 0.1837 | Macro F1: 0.9139 | Micro F1: 0.9148\n",
            "              precision    recall  f1-score   support\n",
            "\n",
            " Non-violent       0.96      0.89      0.92       381\n",
            "     Violent       0.87      0.94      0.91       288\n",
            "\n",
            "    accuracy                           0.91       669\n",
            "   macro avg       0.91      0.92      0.91       669\n",
            "weighted avg       0.92      0.91      0.92       669\n",
            "\n",
            "[SAVED] Best BCE model\n"
          ]
        },
        {
          "output_type": "stream",
          "name": "stderr",
          "text": [
            "Epoch 19/20: 100%|██████████| 168/168 [04:09<00:00,  1.49s/it]\n"
          ]
        },
        {
          "output_type": "stream",
          "name": "stdout",
          "text": [
            "Epoch 19 | Avg BCE Loss: 0.1666 | Macro F1: 0.9253 | Micro F1: 0.9268\n",
            "              precision    recall  f1-score   support\n",
            "\n",
            " Non-violent       0.93      0.94      0.94       381\n",
            "     Violent       0.92      0.91      0.91       288\n",
            "\n",
            "    accuracy                           0.93       669\n",
            "   macro avg       0.93      0.93      0.93       669\n",
            "weighted avg       0.93      0.93      0.93       669\n",
            "\n",
            "[SAVED] Best BCE model\n"
          ]
        },
        {
          "output_type": "stream",
          "name": "stderr",
          "text": [
            "Epoch 20/20: 100%|██████████| 168/168 [04:11<00:00,  1.50s/it]\n"
          ]
        },
        {
          "output_type": "stream",
          "name": "stdout",
          "text": [
            "Epoch 20 | Avg BCE Loss: 0.1544 | Macro F1: 0.9256 | Micro F1: 0.9268\n",
            "              precision    recall  f1-score   support\n",
            "\n",
            " Non-violent       0.95      0.92      0.93       381\n",
            "     Violent       0.90      0.93      0.92       288\n",
            "\n",
            "    accuracy                           0.93       669\n",
            "   macro avg       0.92      0.93      0.93       669\n",
            "weighted avg       0.93      0.93      0.93       669\n",
            "\n",
            "[SAVED] Best BCE model\n",
            "\n",
            "[TEST] BCE Loss: 0.9424\n",
            "[TEST] Macro F1: 0.6655\n",
            "[TEST] Micro F1: 0.6656\n",
            "[TEST] Per-Class F1 Scores:\n",
            " - Non-violent F1: 0.6583\n",
            " - Violent F1: 0.6727\n",
            "Confusion Matrix:\n",
            " [[105  78]\n",
            " [ 31 112]]\n"
          ]
        }
      ]
    }
  ]
}